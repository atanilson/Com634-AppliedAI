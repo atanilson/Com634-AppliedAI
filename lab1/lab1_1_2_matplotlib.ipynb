{
  "cells": [
    {
      "cell_type": "markdown",
      "metadata": {
        "id": "-r_c-IfqoHeO"
      },
      "source": [
        "# Matplotlib: Simple Line Plots"
      ]
    },
    {
      "cell_type": "markdown",
      "metadata": {
        "id": "SQsFWgPvoHeP"
      },
      "source": [
        "Perhaps the simplest of all plots is the visualization of a single function $y = f(x)$.\n",
        "Here we will take a first look at creating a simple plot of this type.\n",
        "As with all the following sections, we'll start by setting up the notebook for plotting and  importing the packages we will use:"
      ]
    },
    {
      "cell_type": "code",
      "execution_count": null,
      "metadata": {
        "id": "SrR0yS2OoHeQ"
      },
      "outputs": [],
      "source": [
        "%matplotlib inline\n",
        "import matplotlib.pyplot as plt\n",
        "plt.style.use('seaborn-v0_8')\n",
        "import numpy as np"
      ]
    },
    {
      "cell_type": "markdown",
      "metadata": {
        "id": "X5SbdDHHoHeR"
      },
      "source": [
        "For all Matplotlib plots, we start by creating a figure and an axes.\n",
        "In their simplest form, a figure and axes can be created as follows:"
      ]
    },
    {
      "cell_type": "code",
      "execution_count": null,
      "metadata": {
        "id": "q74xZkAAoHeS"
      },
      "outputs": [],
      "source": [
        "fig = plt.figure()\n",
        "ax = plt.axes()"
      ]
    },
    {
      "cell_type": "markdown",
      "metadata": {
        "id": "wpUFvu-5oHeT"
      },
      "source": [
        "In Matplotlib, the *figure* (an instance of the class ``plt.Figure``) can be thought of as a single container that contains all the objects representing axes, graphics, text, and labels.\n",
        "The *axes* (an instance of the class ``plt.Axes``) is what we see above: a bounding box with ticks and labels, which will eventually contain the plot elements that make up our visualization.\n",
        "Throughout this book, we'll commonly use the variable name ``fig`` to refer to a figure instance, and ``ax`` to refer to an axes instance or group of axes instances.\n",
        "\n",
        "Once we have created an axes, we can use the ``ax.plot`` function to plot some data. Let's start with a simple sinusoid:"
      ]
    },
    {
      "cell_type": "code",
      "execution_count": null,
      "metadata": {
        "id": "GrBXp01VoHeU"
      },
      "outputs": [],
      "source": [
        "fig = plt.figure()\n",
        "ax = plt.axes()\n",
        "\n",
        "x = np.linspace(0, 10, 1000)\n",
        "ax.plot(x, np.sin(x));"
      ]
    },
    {
      "cell_type": "markdown",
      "metadata": {
        "id": "MsLb9NQ0oHeW"
      },
      "source": [
        "If we want to create a single figure with multiple lines, we can simply call the ``plot`` function multiple times:"
      ]
    },
    {
      "cell_type": "code",
      "execution_count": null,
      "metadata": {
        "id": "zCclUEV8oHeW"
      },
      "outputs": [],
      "source": [
        "fig = plt.figure()\n",
        "ax = plt.axes()\n",
        "x = np.linspace(0, 10, 1000)\n",
        "ax.plot(x, np.sin(x))\n",
        "ax.plot(x, np.cos(x));"
      ]
    },
    {
      "cell_type": "markdown",
      "metadata": {
        "id": "5zWXOZohoHeX"
      },
      "source": [
        "That's all there is to plotting simple functions in Matplotlib!\n",
        "We'll now dive into some more details about how to control the appearance of the axes and lines."
      ]
    },
    {
      "cell_type": "markdown",
      "metadata": {
        "id": "tb78yRLzoHeX"
      },
      "source": [
        "## Adjusting the Plot: Line Colors and Styles"
      ]
    },
    {
      "cell_type": "markdown",
      "metadata": {
        "id": "p8FsotVqoHeX"
      },
      "source": [
        "The first adjustment you might wish to make to a plot is to control the line colors and styles.\n",
        "The ``plt.plot()`` function takes additional arguments that can be used to specify these.\n",
        "To adjust the color, you can use the ``color`` keyword, which accepts a string argument representing virtually any imaginable color.\n",
        "The color can be specified in a variety of ways:"
      ]
    },
    {
      "cell_type": "code",
      "execution_count": null,
      "metadata": {
        "id": "1QYsyU8joHeY"
      },
      "outputs": [],
      "source": [
        "plt.plot(x, np.sin(x - 0), color='blue')        # specify color by name\n",
        "plt.plot(x, np.sin(x - 1), color='g')           # short color code (rgbcmyk)\n",
        "plt.plot(x, np.sin(x - 2), color='0.75')        # Grayscale between 0 and 1\n",
        "plt.plot(x, np.sin(x - 3), color='#FFDD44')     # Hex code (RRGGBB from 00 to FF)\n",
        "plt.plot(x, np.sin(x - 4), color=(1.0,0.2,0.3)) # RGB tuple, values 0 to 1\n",
        "plt.plot(x, np.sin(x - 5), color='chartreuse'); # all HTML color names supported"
      ]
    },
    {
      "cell_type": "markdown",
      "metadata": {
        "id": "aT8ekdKCoHeY"
      },
      "source": [
        "If no color is specified, Matplotlib will automatically cycle through a set of default colors for multiple lines.\n",
        "\n",
        "Similarly, the line style can be adjusted using the ``linestyle`` keyword:"
      ]
    },
    {
      "cell_type": "code",
      "execution_count": null,
      "metadata": {
        "id": "zGU8qdvxoHeY"
      },
      "outputs": [],
      "source": [
        "plt.plot(x, x + 0, linestyle='solid')\n",
        "plt.plot(x, x + 1, linestyle='dashed')\n",
        "plt.plot(x, x + 2, linestyle='dashdot')\n",
        "plt.plot(x, x + 3, linestyle='dotted');\n",
        "\n",
        "# For short, you can use the following codes:\n",
        "plt.plot(x, x + 4, linestyle='-')  # solid\n",
        "plt.plot(x, x + 5, linestyle='--') # dashed\n",
        "plt.plot(x, x + 6, linestyle='-.') # dashdot\n",
        "plt.plot(x, x + 7, linestyle=':');  # dotted"
      ]
    },
    {
      "cell_type": "markdown",
      "metadata": {
        "id": "NueOMrA2oHeZ"
      },
      "source": [
        "If you would like to be extremely terse, these ``linestyle`` and ``color`` codes can be combined into a single non-keyword argument to the ``plt.plot()`` function:"
      ]
    },
    {
      "cell_type": "code",
      "execution_count": null,
      "metadata": {
        "id": "5KWMNLcPoHeZ"
      },
      "outputs": [],
      "source": [
        "plt.plot(x, x + 0, '-g')  # solid green\n",
        "plt.plot(x, x + 1, '--c') # dashed cyan\n",
        "plt.plot(x, x + 2, '-.k') # dashdot black\n",
        "plt.plot(x, x + 3, ':r');  # dotted red"
      ]
    },
    {
      "cell_type": "markdown",
      "metadata": {
        "id": "Ni6WTsPgoHea"
      },
      "source": [
        "These single-character color codes reflect the standard abbreviations in the RGB (Red/Green/Blue) and CMYK (Cyan/Magenta/Yellow/blacK) color systems, commonly used for digital color graphics.\n",
        "\n",
        "There are many other keyword arguments that can be used to fine-tune the appearance of the plot; for more details, I'd suggest viewing the documentation of the ``plt.plot()`` function."
      ]
    },
    {
      "cell_type": "markdown",
      "metadata": {
        "id": "OUdyh70KoHea"
      },
      "source": [
        "## Adjusting the Plot: Axes Limits\n",
        "\n",
        "Matplotlib does a decent job of choosing default axes limits for your plot, but sometimes it's nice to have finer control.\n",
        "The most basic way to adjust axis limits is to use the ``plt.xlim()`` and ``plt.ylim()`` methods:"
      ]
    },
    {
      "cell_type": "code",
      "execution_count": null,
      "metadata": {
        "id": "Ib_4dyQxoHea"
      },
      "outputs": [],
      "source": [
        "plt.plot(x, np.sin(x))\n",
        "\n",
        "plt.xlim(-1, 11)\n",
        "plt.ylim(-1.5, 1.5);"
      ]
    },
    {
      "cell_type": "markdown",
      "metadata": {
        "id": "IkKaonY8oHeb"
      },
      "source": [
        "A useful related method is ``plt.axis()`` (note here the potential confusion between *axes* with an *e*, and *axis* with an *i*).\n",
        "The ``plt.axis()`` method allows you to set the ``x`` and ``y`` limits with a single call, by passing a list which specifies ``[xmin, xmax, ymin, ymax]``:"
      ]
    },
    {
      "cell_type": "code",
      "execution_count": null,
      "metadata": {
        "id": "D3UWhnKyoHeb"
      },
      "outputs": [],
      "source": [
        "plt.plot(x, np.sin(x))\n",
        "plt.axis([-1, 11, -1.5, 1.5]);"
      ]
    },
    {
      "cell_type": "markdown",
      "metadata": {
        "id": "q8FPSuEjoHec"
      },
      "source": [
        "The ``plt.axis()`` method goes even beyond this, allowing you to do things like automatically tighten the bounds around the current plot:"
      ]
    },
    {
      "cell_type": "code",
      "execution_count": null,
      "metadata": {
        "id": "Hcn_9qQboHec"
      },
      "outputs": [],
      "source": [
        "plt.plot(x, np.sin(x))\n",
        "plt.axis('tight');"
      ]
    },
    {
      "cell_type": "markdown",
      "metadata": {
        "id": "16uZ9pQWoHec"
      },
      "source": [
        "It allows even higher-level specifications, such as ensuring an equal aspect ratio so that on your screen, one unit in ``x`` is equal to one unit in ``y``:"
      ]
    },
    {
      "cell_type": "code",
      "execution_count": null,
      "metadata": {
        "id": "-3JygKmCoHec"
      },
      "outputs": [],
      "source": [
        "plt.plot(x, np.sin(x))\n",
        "plt.axis('equal');"
      ]
    },
    {
      "cell_type": "markdown",
      "metadata": {
        "id": "yYJ93vuFoHec"
      },
      "source": [
        "For more information on axis limits and the other capabilities of the ``plt.axis`` method, refer to the ``plt.axis`` docstring."
      ]
    },
    {
      "cell_type": "markdown",
      "metadata": {
        "id": "tvxrUHLPoHed"
      },
      "source": [
        "## Labeling Plots\n",
        "\n",
        "As the last piece of this section, we'll briefly look at the labeling of plots: titles, axis labels, and simple legends.\n",
        "\n",
        "Titles and axis labels are the simplest such labels—there are methods that can be used to quickly set them:"
      ]
    },
    {
      "cell_type": "code",
      "execution_count": null,
      "metadata": {
        "id": "HuZ03dlUoHed"
      },
      "outputs": [],
      "source": [
        "plt.plot(x, np.sin(x))\n",
        "plt.title(\"A Sine Curve\")\n",
        "plt.xlabel(\"x\")\n",
        "plt.ylabel(\"sin(x)\");"
      ]
    },
    {
      "cell_type": "markdown",
      "metadata": {
        "id": "Vx1BghT4oHee"
      },
      "source": [
        "The position, size, and style of these labels can be adjusted using optional arguments to the function.\n",
        "For more information, see the Matplotlib documentation and the docstrings of each of these functions."
      ]
    },
    {
      "cell_type": "markdown",
      "metadata": {
        "id": "zsp02baMoHee"
      },
      "source": [
        "When multiple lines are being shown within a single axes, it can be useful to create a plot legend that labels each line type.\n",
        "Again, Matplotlib has a built-in way of quickly creating such a legend.\n",
        "It is done via the (you guessed it) ``plt.legend()`` method.\n",
        "Though there are several valid ways of using this, I find it easiest to specify the label of each line using the ``label`` keyword of the plot function:"
      ]
    },
    {
      "cell_type": "code",
      "execution_count": null,
      "metadata": {
        "id": "jvlzI_VSoHee"
      },
      "outputs": [],
      "source": [
        "plt.plot(x, np.sin(x), '-g', label='sin(x)')\n",
        "plt.plot(x, np.cos(x), ':b', label='cos(x)')\n",
        "plt.axis('equal')\n",
        "\n",
        "plt.legend();"
      ]
    },
    {
      "cell_type": "markdown",
      "metadata": {
        "id": "9RYKBOiRoHee"
      },
      "source": [
        "As you can see, the ``plt.legend()`` function keeps track of the line style and color, and matches these with the correct label.\n",
        "More information on specifying and formatting plot legends can be found in the ``plt.legend`` documentation."
      ]
    },
    {
      "cell_type": "markdown",
      "metadata": {
        "id": "dYKkR-A-oHef"
      },
      "source": [
        "## Aside: Matplotlib Gotchas\n",
        "\n",
        "While most ``plt`` functions translate directly to ``ax`` methods (such as ``plt.plot()`` → ``ax.plot()``, ``plt.legend()`` → ``ax.legend()``, etc.), this is not the case for all commands.\n",
        "In particular, functions to set limits, labels, and titles are slightly modified.\n",
        "For transitioning between MATLAB-style functions and object-oriented methods, make the following changes:\n",
        "\n",
        "- ``plt.xlabel()``  → ``ax.set_xlabel()``\n",
        "- ``plt.ylabel()`` → ``ax.set_ylabel()``\n",
        "- ``plt.xlim()``  → ``ax.set_xlim()``\n",
        "- ``plt.ylim()`` → ``ax.set_ylim()``\n",
        "- ``plt.title()`` → ``ax.set_title()``\n",
        "\n",
        "In the object-oriented interface to plotting, rather than calling these functions individually, it is often more convenient to use the ``ax.set()`` method to set all these properties at once:"
      ]
    },
    {
      "cell_type": "code",
      "execution_count": null,
      "metadata": {
        "id": "FnO0YuFloHef"
      },
      "outputs": [],
      "source": [
        "ax = plt.axes()\n",
        "ax.plot(x, np.sin(x))\n",
        "ax.set(xlim=(0, 10), ylim=(-2, 2),\n",
        "       xlabel='x', ylabel='sin(x)',\n",
        "       title='A Simple Plot');"
      ]
    }
  ],
  "metadata": {
    "anaconda-cloud": {},
    "colab": {
      "provenance": []
    },
    "kernelspec": {
      "display_name": "Python 3 (ipykernel)",
      "language": "python",
      "name": "python3"
    },
    "language_info": {
      "codemirror_mode": {
        "name": "ipython",
        "version": 3
      },
      "file_extension": ".py",
      "mimetype": "text/x-python",
      "name": "python",
      "nbconvert_exporter": "python",
      "pygments_lexer": "ipython3",
      "version": "3.8.12"
    }
  },
  "nbformat": 4,
  "nbformat_minor": 0
}
