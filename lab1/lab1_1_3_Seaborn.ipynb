{
  "cells": [
    {
      "cell_type": "markdown",
      "metadata": {
        "id": "cMMKiEpUnXCC"
      },
      "source": [
        "# Visualization with Seaborn"
      ]
    },
    {
      "cell_type": "markdown",
      "metadata": {
        "id": "5xSPv8nWnXCD"
      },
      "source": [
        "\n",
        "Seaborn provides an API on top of Matplotlib that offers sane choices for plot style and color defaults, defines simple high-level functions for common statistical plot types, and integrates with the functionality provided by Pandas ``DataFrame``s."
      ]
    },
    {
      "cell_type": "markdown",
      "metadata": {
        "id": "Q5_E-pKEnXCE"
      },
      "source": [
        "## Seaborn Versus Matplotlib\n",
        "\n",
        "Here is an example of a simple random-walk plot in Matplotlib, using its classic plot formatting and colors.\n",
        "We start with the typical imports:"
      ]
    },
    {
      "cell_type": "code",
      "execution_count": null,
      "metadata": {
        "id": "Nm88cynbnXCE"
      },
      "outputs": [],
      "source": [
        "import matplotlib.pyplot as plt\n",
        "plt.style.use('classic')\n",
        "%matplotlib inline\n",
        "import numpy as np\n",
        "import pandas as pd"
      ]
    },
    {
      "cell_type": "markdown",
      "metadata": {
        "id": "Ymmc5DB9nXCG"
      },
      "source": [
        "Now we create some random walk data:"
      ]
    },
    {
      "cell_type": "code",
      "execution_count": null,
      "metadata": {
        "id": "-x1hCRC9nXCG"
      },
      "outputs": [],
      "source": [
        "# Create some data\n",
        "rng = np.random.RandomState(0)\n",
        "x = np.linspace(0, 10, 500)\n",
        "y = np.cumsum(rng.randn(500, 6), 0)"
      ]
    },
    {
      "cell_type": "markdown",
      "metadata": {
        "id": "tUkLZDGqnXCH"
      },
      "source": [
        "And do a simple plot:"
      ]
    },
    {
      "cell_type": "code",
      "execution_count": null,
      "metadata": {
        "id": "9J5MPLkmnXCH"
      },
      "outputs": [],
      "source": [
        "# Plot the data with Matplotlib defaults\n",
        "plt.plot(x, y)\n",
        "plt.legend('ABCDEF', ncol=2, loc='upper left');"
      ]
    },
    {
      "cell_type": "markdown",
      "metadata": {
        "id": "wAAtjJpVnXCI"
      },
      "source": [
        "Although the result contains all the information we'd like it to convey, it does so in a way that is not all that aesthetically pleasing, and even looks a bit old-fashioned in the context of 21st-century data visualization.\n",
        "\n",
        "Now let's take a look at how it works with Seaborn.\n",
        "As we will see, Seaborn has many of its own high-level plotting routines, but it can also overwrite Matplotlib's default parameters and in turn get even simple Matplotlib scripts to produce vastly superior output.\n",
        "We can set the style by calling Seaborn's ``set()`` method.\n",
        "By convention, Seaborn is imported as ``sns``:"
      ]
    },
    {
      "cell_type": "code",
      "execution_count": null,
      "metadata": {
        "id": "YrxguLfUnXCJ"
      },
      "outputs": [],
      "source": [
        "import seaborn as sns\n",
        "sns.set()"
      ]
    },
    {
      "cell_type": "markdown",
      "metadata": {
        "id": "DUYQUDdgnXCJ"
      },
      "source": [
        "Now let's rerun the same two lines as before:"
      ]
    },
    {
      "cell_type": "code",
      "execution_count": null,
      "metadata": {
        "id": "0JACLyytnXCJ"
      },
      "outputs": [],
      "source": [
        "# same plotting code as above!\n",
        "plt.plot(x, y)\n",
        "plt.legend('ABCDEF', ncol=2, loc='upper left');"
      ]
    },
    {
      "cell_type": "markdown",
      "metadata": {
        "id": "VU7Op5b9nXCJ"
      },
      "source": [
        "Ah, much better!"
      ]
    },
    {
      "cell_type": "markdown",
      "metadata": {
        "id": "0DPwqKCKnXCK"
      },
      "source": [
        "## Exploring Seaborn Plots\n",
        "\n",
        "The main idea of Seaborn is that it provides high-level commands to create a variety of plot types useful for statistical data exploration, and even some statistical model fitting.\n",
        "\n",
        "Let's take a look at a few of the datasets and plot types available in Seaborn. Note that all of the following *could* be done using raw Matplotlib commands (this is, in fact, what Seaborn does under the hood) but the Seaborn API is much more convenient."
      ]
    },
    {
      "cell_type": "markdown",
      "metadata": {
        "id": "zCTK1HhanXCK"
      },
      "source": [
        "### Histograms, KDE, and densities\n",
        "\n",
        "Often in statistical data visualization, all you want is to plot histograms and joint distributions of variables.\n",
        "We have seen that this is relatively straightforward in Matplotlib:"
      ]
    },
    {
      "cell_type": "code",
      "execution_count": null,
      "metadata": {
        "id": "D6nMwNhjnXCK"
      },
      "outputs": [],
      "source": [
        "data = np.random.multivariate_normal([0, 0], [[5, 2], [2, 2]], size=2000)\n",
        "data = pd.DataFrame(data, columns=['x', 'y'])\n",
        "\n",
        "for col in 'xy':\n",
        "    plt.hist(data[col], density=True, alpha=0.5, label=col)\n",
        "plt.legend(loc='upper right')"
      ]
    },
    {
      "cell_type": "markdown",
      "metadata": {
        "id": "EGT8qaREnXCK"
      },
      "source": [
        "Rather than a histogram, we can get a smooth estimate of the distribution using a kernel density estimation, which Seaborn does with ``sns.kdeplot``:"
      ]
    },
    {
      "cell_type": "code",
      "execution_count": null,
      "metadata": {
        "id": "xE4e_yCAnXCL"
      },
      "outputs": [],
      "source": [
        "for col in 'xy':\n",
        "    sns.kdeplot(data[col], fill=True)"
      ]
    },
    {
      "cell_type": "markdown",
      "metadata": {
        "id": "_nQFD3smnXCL"
      },
      "source": [
        "Histograms and KDE can be combined using ``distplot``:"
      ]
    },
    {
      "cell_type": "code",
      "execution_count": null,
      "metadata": {
        "id": "1_Q6x4OwnXCL"
      },
      "outputs": [],
      "source": [
        "sns.distplot(data['x'])\n",
        "sns.distplot(data['y']);"
      ]
    },
    {
      "cell_type": "markdown",
      "metadata": {
        "id": "Rw5QadpWnXCM"
      },
      "source": [
        "We can see the joint distribution and the marginal distributions together using ``sns.jointplot``.\n",
        "For this plot, we'll set the style to a white background:"
      ]
    },
    {
      "cell_type": "code",
      "execution_count": null,
      "metadata": {
        "id": "uHxxiTSknXCM"
      },
      "outputs": [],
      "source": [
        "with sns.axes_style('white'):\n",
        "    sns.jointplot(data, x=\"x\", y=\"y\", kind='kde');"
      ]
    },
    {
      "cell_type": "markdown",
      "metadata": {
        "id": "maExOsRFnXCM"
      },
      "source": [
        "There are other parameters that can be passed to ``jointplot``—for example, we can use a hexagonally based histogram instead:"
      ]
    },
    {
      "cell_type": "code",
      "execution_count": null,
      "metadata": {
        "id": "29QHjklmnXCN"
      },
      "outputs": [],
      "source": [
        "with sns.axes_style('white'):\n",
        "    sns.jointplot(data, x=\"x\", y=\"y\", kind='hex')"
      ]
    },
    {
      "cell_type": "markdown",
      "metadata": {
        "id": "27vTcDkUnXCO"
      },
      "source": [
        "Visualizing the multidimensional relationships among the samples is as easy as calling ``sns.pairplot``:"
      ]
    },
    {
      "cell_type": "code",
      "source": [
        "sns.pairplot(data)"
      ],
      "metadata": {
        "id": "-KU-IMILp4wS"
      },
      "execution_count": null,
      "outputs": []
    },
    {
      "cell_type": "markdown",
      "metadata": {
        "id": "LYvkpJtWnXCO"
      },
      "source": [
        "### Faceted histograms\n",
        "\n",
        "Sometimes the best way to view data is via histograms of subsets. Seaborn's ``FacetGrid`` makes this extremely simple.\n",
        "We'll take a look at some data that shows the amount that restaurant staff receive in tips based on various indicator data:"
      ]
    },
    {
      "cell_type": "code",
      "execution_count": null,
      "metadata": {
        "id": "z6OQ028FnXCO"
      },
      "outputs": [],
      "source": [
        "tips = sns.load_dataset('tips')\n",
        "tips.head()"
      ]
    },
    {
      "cell_type": "code",
      "execution_count": null,
      "metadata": {
        "id": "Fms1N89pnXCP"
      },
      "outputs": [],
      "source": [
        "tips['tip_pct'] = 100 * (tips['tip'] / tips['total_bill'])\n",
        "\n",
        "grid = sns.FacetGrid(tips, row=\"sex\", col=\"time\", margin_titles=True)\n",
        "grid.map(plt.hist, \"tip_pct\", bins=np.linspace(0, 40, 15));"
      ]
    },
    {
      "cell_type": "markdown",
      "metadata": {
        "id": "OFkYhbiOnXCP"
      },
      "source": [
        "### Joint distributions\n",
        "\n",
        "Similar to the pairplot we saw earlier, we can use ``sns.jointplot`` to show the joint distribution between different datasets, along with the associated marginal distributions:"
      ]
    },
    {
      "cell_type": "code",
      "execution_count": null,
      "metadata": {
        "id": "srs-kX7bnXCP"
      },
      "outputs": [],
      "source": [
        "with sns.axes_style('white'):\n",
        "    sns.jointplot(tips, x=\"total_bill\", y=\"tip\", kind='hex')"
      ]
    },
    {
      "cell_type": "markdown",
      "metadata": {
        "id": "8pUrV0xs31FQ"
      },
      "source": [
        " For further materials, you can refer to https://jakevdp.github.io/PythonDataScienceHandbook/"
      ]
    },
    {
      "cell_type": "markdown",
      "source": [
        "# Pandas Built-in Plots\n",
        "\n",
        "Pandas has some built-in plotting functions that can be used to visualize data as well.\n",
        "While these methods make the process easier, they don't offer as much flexibility as ``Seaborn`` and ``Matplotlip``.\n",
        "\n",
        "In the example below, a simple scatterplot is being plotted using the two variables from my ``DataFrame``. Read more about the Pandas plot function [here](https://pandas.pydata.org/docs/reference/api/pandas.DataFrame.plot.html)."
      ],
      "metadata": {
        "id": "-WO5-piFMjpK"
      }
    },
    {
      "cell_type": "code",
      "source": [
        "data.plot(kind='scatter', x='x', marker='x', y='y', color='red', linewidths=1)"
      ],
      "metadata": {
        "id": "r7Jss8mLMFhI"
      },
      "execution_count": null,
      "outputs": []
    }
  ],
  "metadata": {
    "anaconda-cloud": {},
    "colab": {
      "provenance": [],
      "collapsed_sections": [
        "Q5_E-pKEnXCE"
      ]
    },
    "kernelspec": {
      "display_name": "Python 3 (ipykernel)",
      "language": "python",
      "name": "python3"
    },
    "language_info": {
      "codemirror_mode": {
        "name": "ipython",
        "version": 3
      },
      "file_extension": ".py",
      "mimetype": "text/x-python",
      "name": "python",
      "nbconvert_exporter": "python",
      "pygments_lexer": "ipython3",
      "version": "3.8.12"
    }
  },
  "nbformat": 4,
  "nbformat_minor": 0
}
