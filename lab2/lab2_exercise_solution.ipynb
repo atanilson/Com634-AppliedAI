{
  "nbformat": 4,
  "nbformat_minor": 0,
  "metadata": {
    "colab": {
      "provenance": []
    },
    "kernelspec": {
      "name": "python3",
      "display_name": "Python 3"
    },
    "language_info": {
      "name": "python"
    }
  },
  "cells": [
    {
      "cell_type": "markdown",
      "source": [
        "# COMP534 Lab 2 Exercise\n",
        "\n",
        "*Try to get the best model possible and beat your peers' models.*"
      ],
      "metadata": {
        "id": "sbtXXfETcxkQ"
      }
    },
    {
      "cell_type": "markdown",
      "source": [
        "Different from the toy dataset, we can download the Titanic dataset (JUST THE TRAIN SET) from the [website](https://www.kaggle.com/c/titanic/data) and upload it into Colab (just like last session).\n",
        "\n",
        "The goal of this dataset is to predict whether a passenger survived the sinking of the Titanic using attributes such as gender, age, etc. In order to use this dataset as input for machine learning, we need to clean and prepare it first.\n"
      ],
      "metadata": {
        "id": "S0hrzmX5dxrc"
      }
    },
    {
      "cell_type": "markdown",
      "source": [
        "Clean and prepare the dataset:\n",
        "  - remove unnecessary variables - you can use [Pandas Drop Function](https://pandas.pydata.org/docs/reference/api/pandas.DataFrame.drop.html) for this\n",
        "  - use plots to identify data issues, such as outliers and missing data, and address these issues - you can use [different functions](https://pandas.pydata.org/docs/reference/frame.html#missing-data-handling) for this\n",
        "  - encode variables if necessary\n",
        "  - normalize/standardize variables if necessary"
      ],
      "metadata": {
        "id": "RPpJDGvZvlxV"
      }
    },
    {
      "cell_type": "code",
      "execution_count": 12,
      "metadata": {
        "id": "oY0akm1_c1Hi",
        "colab": {
          "base_uri": "https://localhost:8080/"
        },
        "outputId": "7d947295-b589-44af-dd2c-29479b5ee4df"
      },
      "outputs": [
        {
          "output_type": "stream",
          "name": "stdout",
          "text": [
            "<class 'pandas.core.frame.DataFrame'>\n",
            "Index: 712 entries, 0 to 890\n",
            "Data columns (total 8 columns):\n",
            " #   Column    Non-Null Count  Dtype  \n",
            "---  ------    --------------  -----  \n",
            " 0   Survived  712 non-null    int64  \n",
            " 1   Pclass    712 non-null    int64  \n",
            " 2   Sex       712 non-null    object \n",
            " 3   Age       712 non-null    float64\n",
            " 4   SibSp     712 non-null    int64  \n",
            " 5   Parch     712 non-null    int64  \n",
            " 6   Fare      712 non-null    float64\n",
            " 7   Embarked  712 non-null    object \n",
            "dtypes: float64(2), int64(4), object(2)\n",
            "memory usage: 50.1+ KB\n",
            "None\n",
            "   Survived  Pclass  Sex   Age  SibSp  Parch     Fare  Embarked\n",
            "0         0       3    1  22.0      1      0   7.2500         2\n",
            "1         1       1    0  38.0      1      0  71.2833         0\n",
            "2         1       3    0  26.0      0      0   7.9250         2\n",
            "3         1       1    0  35.0      1      0  53.1000         2\n",
            "4         0       3    1  35.0      0      0   8.0500         2\n"
          ]
        }
      ],
      "source": [
        "# coding here - create new code cells if necessary\n",
        "import numpy as np\n",
        "import pandas as pd\n",
        "\n",
        "raw_train = pd.read_csv('train.csv')\n",
        "raw_train = raw_train.drop(['PassengerId', 'Name', 'Cabin', 'Ticket'], axis=1)  # unnecessary variables\n",
        "raw_train = raw_train.dropna()  # drop data points with missing values\n",
        "print(raw_train.info())\n",
        "\n",
        "raw_train['Embarked'] = raw_train['Embarked'].astype('category')\n",
        "raw_train['Sex'] = raw_train['Sex'].astype('category')\n",
        "cat_columns = raw_train.select_dtypes(['category']).columns\n",
        "raw_train[cat_columns] = raw_train[cat_columns].apply(lambda x: x.cat.codes)  # encode categorical variables\n",
        "print(raw_train.head())\n",
        "\n",
        "X = raw_train.iloc[:, 1:]\n",
        "y = raw_train.iloc[:, 0]"
      ]
    },
    {
      "cell_type": "markdown",
      "source": [
        "Now that the dataset is clean, we can split it to train and test machine learning models. As seen in the lectures, there are several ways to split the data - you can check out some of these implemented in SKLearn [here](https://scikit-learn.org/stable/api/sklearn.model_selection.html).\n",
        "\n",
        "In our case, we will use the [regular train/test split](https://scikit-learn.org/stable/modules/generated/sklearn.model_selection.train_test_split.html#sklearn.model_selection.train_test_split).\n",
        "The cell below splits your data into train (75%) and test (25%).\n",
        "\n",
        "- X is a tensor with your attributes - if you have a variable with a different name, just change it here\n",
        "- y is an array with your target variable (Survived) - if you have a variable with a different name, just change it here\n",
        "\n",
        "- X_train, y_train - the data and label you will use to **train**\n",
        "- X_test, y_test - the data and label you will use to **test**\n",
        "\n",
        "**CHANGE ONLY THE NAME OF THE VARIABLES - DO NOT CHANGE ANYTHING ELSE**"
      ],
      "metadata": {
        "id": "0ELoLbc816qN"
      }
    },
    {
      "cell_type": "code",
      "source": [
        "from sklearn.model_selection import train_test_split\n",
        "\n",
        "# DO NOT CODE HERE - change the name of the variables only if necessary\n",
        "X_train, X_test, y_train, y_test = train_test_split(X, y, test_size=0.20,\n",
        "                                                    random_state=42, stratify=y)"
      ],
      "metadata": {
        "id": "tcMdwRWu2O3i"
      },
      "execution_count": 13,
      "outputs": []
    },
    {
      "cell_type": "markdown",
      "source": [
        "Now that your dataset is ready to use, what is the best accuracy you can achieve?\n",
        "Feel free to experiment with different methods. Try tweaking the hyperparameters (like k for kNN or n_estimators for RandomForest).\n",
        "\n",
        "For all trained models, use the [balanced accuracy](https://scikit-learn.org/stable/modules/generated/sklearn.metrics.balanced_accuracy_score.html) **on the test set** (X_test and y_test) to evaluate your models.\n",
        "\n",
        "Once you're happy with your results, report them [here](https://docs.google.com/spreadsheets/d/1dKtIFVtamqOYAnhdTA5nVlSpy_iOu89NKMmlqaPBtBQ/edit?usp=sharing) and see if you can beat your colleagues' models."
      ],
      "metadata": {
        "id": "YjFirRuUwIj5"
      }
    },
    {
      "cell_type": "code",
      "source": [
        "# coding here - create new code cells if necessary\n",
        "from sklearn.metrics import balanced_accuracy_score\n",
        "from sklearn.ensemble import RandomForestClassifier\n",
        "from sklearn import svm\n",
        "\n",
        "rf = RandomForestClassifier(n_estimators=10, random_state=0)\n",
        "rf.fit(X_train, y_train)\n",
        "rf_pred = rf.predict(X_test)\n",
        "print(\"Random Forest: \", balanced_accuracy_score(y_test, rf_pred))\n",
        "\n",
        "sv = svm.SVC(kernel=\"linear\", C=1)\n",
        "sv.fit(X_train, y_train)\n",
        "sv_pred = sv.predict(X_test)\n",
        "print(\"SVM:\", balanced_accuracy_score(y_test, sv_pred))"
      ],
      "metadata": {
        "id": "f7MvmLn3wHPn",
        "colab": {
          "base_uri": "https://localhost:8080/"
        },
        "outputId": "6b74453d-a633-45c3-cd76-60ee161fbf70"
      },
      "execution_count": 16,
      "outputs": [
        {
          "output_type": "stream",
          "name": "stdout",
          "text": [
            "Random Forest:  0.75973630831643\n",
            "SVM: 0.7538539553752536\n"
          ]
        }
      ]
    }
  ]
}