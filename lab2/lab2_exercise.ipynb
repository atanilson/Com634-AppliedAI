{
  "nbformat": 4,
  "nbformat_minor": 0,
  "metadata": {
    "colab": {
      "provenance": []
    },
    "kernelspec": {
      "name": "python3",
      "display_name": "Python 3"
    },
    "language_info": {
      "name": "python"
    }
  },
  "cells": [
    {
      "cell_type": "markdown",
      "source": [
        "# COMP534 Lab 2 Exercise\n",
        "\n",
        "*Try to get the best model possible and beat your peers' models.*"
      ],
      "metadata": {
        "id": "sbtXXfETcxkQ"
      }
    },
    {
      "cell_type": "markdown",
      "source": [
        "Different from the toy dataset, we can download the Titanic dataset (JUST THE TRAIN SET) from the [website](https://www.kaggle.com/c/titanic/data) and upload it into Colab (just like last session).\n",
        "\n",
        "The goal of this dataset is to predict whether a passenger survived the sinking of the Titanic using attributes such as gender, age, etc. In order to use this dataset as input for machine learning, we need to clean and prepare it first.\n"
      ],
      "metadata": {
        "id": "S0hrzmX5dxrc"
      }
    },
    {
      "cell_type": "markdown",
      "source": [
        "Clean and prepare the dataset:\n",
        "  - remove unnecessary variables - you can use [Pandas Drop Function](https://pandas.pydata.org/docs/reference/api/pandas.DataFrame.drop.html) for this\n",
        "  - use plots to identify data issues, such as outliers and missing data, and address these issues - you can use [different functions](https://pandas.pydata.org/docs/reference/frame.html#missing-data-handling) for this\n",
        "  - encode variables if necessary\n",
        "  - normalize/standardize variables if necessary"
      ],
      "metadata": {
        "id": "RPpJDGvZvlxV"
      }
    },
    {
      "cell_type": "code",
      "execution_count": null,
      "metadata": {
        "id": "oY0akm1_c1Hi"
      },
      "outputs": [],
      "source": [
        "# coding here - create new code cells if necessary\n",
        "import numpy as np\n",
        "import pandas as pd\n",
        "\n",
        "\n",
        "\n",
        "\n",
        "\n"
      ]
    },
    {
      "cell_type": "markdown",
      "source": [
        "Now that the dataset is clean, we can split it to train and test machine learning models. As seen in the lectures, there are several ways to split the data - you can check out some of these implemented in SKLearn [here](https://scikit-learn.org/stable/api/sklearn.model_selection.html).\n",
        "\n",
        "In our case, we will use the [regular train/test split](https://scikit-learn.org/stable/modules/generated/sklearn.model_selection.train_test_split.html#sklearn.model_selection.train_test_split).\n",
        "The cell below splits your data into train (75%) and test (25%).\n",
        "\n",
        "- X is a tensor with your attributes - if you have a variable with a different name, just change it here\n",
        "- y is an array with your target variable (Survived) - if you have a variable with a different name, just change it here\n",
        "\n",
        "- X_train, y_train - the data and label you will use to **train**\n",
        "- X_test, y_test - the data and label you will use to **test**\n",
        "\n",
        "**CHANGE ONLY THE NAME OF THE VARIABLES - DO NOT CHANGE ANYTHING ELSE**"
      ],
      "metadata": {
        "id": "0ELoLbc816qN"
      }
    },
    {
      "cell_type": "code",
      "source": [
        "from sklearn.model_selection import train_test_split\n",
        "\n",
        "# DO NOT CODE HERE - change the name of the variables only if necessary\n",
        "X_train, X_test, y_train, y_test = train_test_split(X, y, test_size=0.20,\n",
        "                                                    random_state=42, stratify=y)"
      ],
      "metadata": {
        "id": "tcMdwRWu2O3i"
      },
      "execution_count": null,
      "outputs": []
    },
    {
      "cell_type": "markdown",
      "source": [
        "Now that your dataset is ready to use, what is the best accuracy you can achieve?\n",
        "Feel free to experiment with different methods. Try tweaking the hyperparameters (like k for kNN or n_estimators for RandomForest).\n",
        "\n",
        "For all trained models, use the [balanced accuracy](https://scikit-learn.org/stable/modules/generated/sklearn.metrics.balanced_accuracy_score.html) **on the test set** (X_test and y_test) to evaluate your models.\n",
        "\n",
        "Once you're happy with your results, report them [here](https://docs.google.com/spreadsheets/d/1dKtIFVtamqOYAnhdTA5nVlSpy_iOu89NKMmlqaPBtBQ/edit?usp=sharing) and see if you can beat your colleagues' models."
      ],
      "metadata": {
        "id": "YjFirRuUwIj5"
      }
    },
    {
      "cell_type": "code",
      "source": [
        "# coding here - create new code cells if necessary\n",
        "from sklearn.metrics import balanced_accuracy_score\n",
        "\n",
        "balanced_accuracy_score(y_test, y_pred)"
      ],
      "metadata": {
        "id": "f7MvmLn3wHPn"
      },
      "execution_count": null,
      "outputs": []
    }
  ]
}