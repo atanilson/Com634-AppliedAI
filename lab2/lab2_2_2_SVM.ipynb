{
  "cells": [
    {
      "cell_type": "markdown",
      "metadata": {
        "id": "sVCWpaE3j8VX"
      },
      "source": [
        "### 2. Supervised Classifer SVM\n",
        "References:\n",
        "\n",
        "1. [Sklearn - Support Vector Machines](https://scikit-learn.org/stable/modules/svm.html)\n",
        "2. [SVM: Maximum margin separating hyperplane](https://scikit-learn.org/stable/auto_examples/svm/plot_separating_hyperplane.html#sphx-glr-auto-examples-svm-plot-separating-hyperplane-py)"
      ]
    },
    {
      "cell_type": "markdown",
      "metadata": {
        "id": "DeI9Fowlj8VY"
      },
      "source": [
        "We first create a toy dataset:"
      ]
    },
    {
      "cell_type": "code",
      "execution_count": null,
      "metadata": {
        "id": "83DGwEZAj8VY"
      },
      "outputs": [],
      "source": [
        "import numpy as np\n",
        "import matplotlib.pyplot as plt\n",
        "from sklearn import svm\n",
        "from sklearn.datasets import make_blobs\n",
        "\n",
        "# we create 40 separable points\n",
        "X, y = make_blobs(n_samples=40, centers=2, random_state=6)\n",
        "#%%\n",
        "plt.scatter(X[:, 0], X[:, 1], c=y, s=30, cmap=plt.cm.Paired)"
      ]
    },
    {
      "cell_type": "markdown",
      "metadata": {
        "id": "1QkJT7kuj8VZ"
      },
      "source": [
        "then we construct a SVM estimator, and feed it with our toy dataset:"
      ]
    },
    {
      "cell_type": "code",
      "execution_count": null,
      "metadata": {
        "id": "8zVe9tSEj8VZ"
      },
      "outputs": [],
      "source": [
        "# fit the model, don't regularize for illustration purposes\n",
        "clf = svm.SVC(kernel=\"linear\", C=1000)  # ~ no L2 Penalty\n",
        "clf.fit(X, y)"
      ]
    },
    {
      "cell_type": "markdown",
      "metadata": {
        "id": "8FiKbMXwj8VZ"
      },
      "source": [
        "now the SVM estimator has been trained. But how do we know what the trained SVM estimator will perform on arbitrary data?\n",
        "We may want to visualize the hyper-dimension space."
      ]
    },
    {
      "cell_type": "code",
      "execution_count": null,
      "metadata": {
        "id": "3_i67oZQj8VZ"
      },
      "outputs": [],
      "source": [
        "# create grid to evaluate model\n",
        "xx = np.linspace(np.min(X[:,0]), np.max(X[:,0]), 30)\n",
        "yy = np.linspace(np.min(X[:,1]), np.max(X[:,1]), 30)\n",
        "YY, XX = np.meshgrid(yy, xx)  # grid\n",
        "xy = np.vstack([XX.ravel(), YY.ravel()]).T  # concatenating features\n",
        "Z = clf.decision_function(xy).reshape(XX.shape)\n",
        "\n",
        "plt.style.use('ggplot')\n",
        "fig, axs = plt.subplots(1, 1, figsize=(5, 5), squeeze=False)\n",
        "ax = axs[0][0]\n",
        "\n",
        "# plot dataset\n",
        "ax.scatter(X[:, 0], X[:, 1], c=y, s=30, cmap=plt.cm.Paired)  # the data\n",
        "\n",
        "# plot decision boundary and margins\n",
        "ax.contour(XX,\n",
        "           YY,\n",
        "           Z,\n",
        "           colors=\"k\",\n",
        "           levels=[-1, 0, 1],\n",
        "           alpha=0.5,\n",
        "           linestyles=[\"--\", \"-\", \"--\"])\n",
        "\n",
        "# plot support vectors - the black circles around the data points\n",
        "ax.scatter(\n",
        "    clf.support_vectors_[:, 0],\n",
        "    clf.support_vectors_[:, 1],\n",
        "    s=100,\n",
        "    linewidth=1,\n",
        "    facecolors=\"none\",\n",
        "    edgecolors=\"k\",\n",
        ")\n",
        "plt.show()\n"
      ]
    }
  ],
  "metadata": {
    "colab": {
      "provenance": []
    },
    "interpreter": {
      "hash": "d5239147aa3fe4761446b00817b6805e54e1e56e1c8e2d38351e6ce2fe90a664"
    },
    "kernelspec": {
      "display_name": "Python 3 (ipykernel)",
      "language": "python",
      "name": "python3"
    },
    "language_info": {
      "codemirror_mode": {
        "name": "ipython",
        "version": 3
      },
      "file_extension": ".py",
      "mimetype": "text/x-python",
      "name": "python",
      "nbconvert_exporter": "python",
      "pygments_lexer": "ipython3",
      "version": "3.8.12"
    }
  },
  "nbformat": 4,
  "nbformat_minor": 0
}