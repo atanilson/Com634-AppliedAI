{
  "nbformat": 4,
  "nbformat_minor": 0,
  "metadata": {
    "colab": {
      "provenance": []
    },
    "kernelspec": {
      "name": "python3",
      "display_name": "Python 3"
    },
    "language_info": {
      "name": "python"
    }
  },
  "cells": [
    {
      "cell_type": "markdown",
      "source": [
        "---\n",
        "\n",
        "# University of Liverpool\n",
        "\n",
        "## COMP634 - Applied AI\n",
        "\n",
        "---"
      ],
      "metadata": {
        "id": "4i5afvUbhmGo"
      }
    },
    {
      "cell_type": "markdown",
      "source": [
        "This notebook is associated with Assignment 1. Use it to complete the assignment by following the instructions provided in each section, which includes a text cell describing the requirements. For additional details, see the Canvas."
      ],
      "metadata": {
        "id": "CpEqsZpRKtkE"
      }
    },
    {
      "cell_type": "markdown",
      "source": [
        "Use this first cell to import the necessary libraries."
      ],
      "metadata": {
        "id": "bwGBUHRSKvf1"
      }
    },
    {
      "cell_type": "code",
      "source": [
        "# import libraries here\n",
        "\n",
        "\n",
        "\n"
      ],
      "metadata": {
        "id": "taBOSk4HKwZp"
      },
      "execution_count": null,
      "outputs": []
    },
    {
      "cell_type": "markdown",
      "source": [
        "# 1. **Data Management**\n",
        "\n",
        "\n",
        "In this part, you need to:\n",
        "\n",
        "1.   analyse and prepare the data. Use plots, graphs, and tables (such as histogram, box plots, scatterplots etc.) to better analyse the dataset and identify issues or potential improvements in the data, including (but not limited to) unnecessary feature/variable which can be dropped/removed, standardization, encoding, etc;\n",
        "2.   split the data and define your experimental protocol (such as cross-validation or k-fold)."
      ],
      "metadata": {
        "id": "hglJVRRslqMn"
      }
    },
    {
      "cell_type": "code",
      "source": [
        "# Write your proposed solution code here. Create more code cells if you find it necessary\n",
        "\n",
        "\n",
        "\n"
      ],
      "metadata": {
        "id": "szQFlMDMJYEh"
      },
      "execution_count": null,
      "outputs": []
    },
    {
      "cell_type": "markdown",
      "source": [
        "---\n",
        "\n",
        "# 2. **Model Training**\n",
        "\n",
        "Here, you need to:\n",
        "\n",
        "1.\tselect and compare at least three machine learning models (seen/discussed during the lectures) appropriate for your modelling;\n",
        "2.\tif there are hyperparameters in a selected algorithm, define a hyperparameter search protocol (you can define your own), and tune them.\n"
      ],
      "metadata": {
        "id": "ScTrpUW8zOp4"
      }
    },
    {
      "cell_type": "code",
      "source": [
        "# Write your proposed solution code here. Create more code cells if you find it necessary\n",
        "\n",
        "\n",
        "\n"
      ],
      "metadata": {
        "id": "jJs8HpW_zX0M"
      },
      "execution_count": null,
      "outputs": []
    },
    {
      "cell_type": "markdown",
      "source": [
        "---\n",
        "\n",
        "# 3. **Evaluate models**\n",
        "\n",
        "Here, you need to:\n",
        "\n",
        "1.\ttest the model (the best one you obtained from the above stage) on the appropriate set\n"
      ],
      "metadata": {
        "id": "3RBW58of0ZDo"
      }
    },
    {
      "cell_type": "code",
      "source": [
        "# Write your proposed solution code here. Create more code cells if you find it necessary\n",
        "\n",
        "\n",
        "\n"
      ],
      "metadata": {
        "id": "jHWwdXg32BEl"
      },
      "execution_count": null,
      "outputs": []
    }
  ]
}
